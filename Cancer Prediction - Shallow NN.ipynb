{
 "cells": [
  {
   "cell_type": "code",
   "execution_count": 34,
   "id": "870695c8",
   "metadata": {},
   "outputs": [],
   "source": [
    "# Cancer Prediction using Logistic Regression - ANN\n",
    "import pandas as pd\n",
    "import numpy as np\n",
    "import matplotlib.pyplot as plt\n",
    "import seaborn as sns\n",
    "import copy"
   ]
  },
  {
   "cell_type": "code",
   "execution_count": 35,
   "id": "3eb6746e",
   "metadata": {},
   "outputs": [
    {
     "data": {
      "text/html": [
       "<div>\n",
       "<style scoped>\n",
       "    .dataframe tbody tr th:only-of-type {\n",
       "        vertical-align: middle;\n",
       "    }\n",
       "\n",
       "    .dataframe tbody tr th {\n",
       "        vertical-align: top;\n",
       "    }\n",
       "\n",
       "    .dataframe thead th {\n",
       "        text-align: right;\n",
       "    }\n",
       "</style>\n",
       "<table border=\"1\" class=\"dataframe\">\n",
       "  <thead>\n",
       "    <tr style=\"text-align: right;\">\n",
       "      <th></th>\n",
       "      <th>Sample code number</th>\n",
       "      <th>Clump Thickness</th>\n",
       "      <th>Uniformity of Cell Size</th>\n",
       "      <th>Uniformity of Cell Shape</th>\n",
       "      <th>Marginal Adhesion</th>\n",
       "      <th>Single Epithelial Cell Size</th>\n",
       "      <th>Bare Nuclei</th>\n",
       "      <th>Bland Chromatin</th>\n",
       "      <th>Normal Nucleoli</th>\n",
       "      <th>Mitoses</th>\n",
       "      <th>Class</th>\n",
       "    </tr>\n",
       "  </thead>\n",
       "  <tbody>\n",
       "    <tr>\n",
       "      <th>0</th>\n",
       "      <td>1000025</td>\n",
       "      <td>5</td>\n",
       "      <td>1</td>\n",
       "      <td>1</td>\n",
       "      <td>1</td>\n",
       "      <td>2</td>\n",
       "      <td>1</td>\n",
       "      <td>3</td>\n",
       "      <td>1</td>\n",
       "      <td>1</td>\n",
       "      <td>2</td>\n",
       "    </tr>\n",
       "    <tr>\n",
       "      <th>1</th>\n",
       "      <td>1002945</td>\n",
       "      <td>5</td>\n",
       "      <td>4</td>\n",
       "      <td>4</td>\n",
       "      <td>5</td>\n",
       "      <td>7</td>\n",
       "      <td>10</td>\n",
       "      <td>3</td>\n",
       "      <td>2</td>\n",
       "      <td>1</td>\n",
       "      <td>2</td>\n",
       "    </tr>\n",
       "    <tr>\n",
       "      <th>2</th>\n",
       "      <td>1015425</td>\n",
       "      <td>3</td>\n",
       "      <td>1</td>\n",
       "      <td>1</td>\n",
       "      <td>1</td>\n",
       "      <td>2</td>\n",
       "      <td>2</td>\n",
       "      <td>3</td>\n",
       "      <td>1</td>\n",
       "      <td>1</td>\n",
       "      <td>2</td>\n",
       "    </tr>\n",
       "    <tr>\n",
       "      <th>3</th>\n",
       "      <td>1016277</td>\n",
       "      <td>6</td>\n",
       "      <td>8</td>\n",
       "      <td>8</td>\n",
       "      <td>1</td>\n",
       "      <td>3</td>\n",
       "      <td>4</td>\n",
       "      <td>3</td>\n",
       "      <td>7</td>\n",
       "      <td>1</td>\n",
       "      <td>2</td>\n",
       "    </tr>\n",
       "    <tr>\n",
       "      <th>4</th>\n",
       "      <td>1017023</td>\n",
       "      <td>4</td>\n",
       "      <td>1</td>\n",
       "      <td>1</td>\n",
       "      <td>3</td>\n",
       "      <td>2</td>\n",
       "      <td>1</td>\n",
       "      <td>3</td>\n",
       "      <td>1</td>\n",
       "      <td>1</td>\n",
       "      <td>2</td>\n",
       "    </tr>\n",
       "  </tbody>\n",
       "</table>\n",
       "</div>"
      ],
      "text/plain": [
       "   Sample code number  Clump Thickness  Uniformity of Cell Size  \\\n",
       "0             1000025                5                        1   \n",
       "1             1002945                5                        4   \n",
       "2             1015425                3                        1   \n",
       "3             1016277                6                        8   \n",
       "4             1017023                4                        1   \n",
       "\n",
       "   Uniformity of Cell Shape  Marginal Adhesion  Single Epithelial Cell Size  \\\n",
       "0                         1                  1                            2   \n",
       "1                         4                  5                            7   \n",
       "2                         1                  1                            2   \n",
       "3                         8                  1                            3   \n",
       "4                         1                  3                            2   \n",
       "\n",
       "   Bare Nuclei  Bland Chromatin  Normal Nucleoli  Mitoses  Class  \n",
       "0            1                3                1        1      2  \n",
       "1           10                3                2        1      2  \n",
       "2            2                3                1        1      2  \n",
       "3            4                3                7        1      2  \n",
       "4            1                3                1        1      2  "
      ]
     },
     "execution_count": 35,
     "metadata": {},
     "output_type": "execute_result"
    }
   ],
   "source": [
    "df= pd.read_csv('tumor.csv')\n",
    "df.head()"
   ]
  },
  {
   "cell_type": "code",
   "execution_count": 36,
   "id": "6a252fd8",
   "metadata": {},
   "outputs": [
    {
     "data": {
      "text/html": [
       "<div>\n",
       "<style scoped>\n",
       "    .dataframe tbody tr th:only-of-type {\n",
       "        vertical-align: middle;\n",
       "    }\n",
       "\n",
       "    .dataframe tbody tr th {\n",
       "        vertical-align: top;\n",
       "    }\n",
       "\n",
       "    .dataframe thead th {\n",
       "        text-align: right;\n",
       "    }\n",
       "</style>\n",
       "<table border=\"1\" class=\"dataframe\">\n",
       "  <thead>\n",
       "    <tr style=\"text-align: right;\">\n",
       "      <th></th>\n",
       "      <th>Sample code number</th>\n",
       "      <th>Clump Thickness</th>\n",
       "      <th>Uniformity of Cell Size</th>\n",
       "      <th>Uniformity of Cell Shape</th>\n",
       "      <th>Marginal Adhesion</th>\n",
       "      <th>Single Epithelial Cell Size</th>\n",
       "      <th>Bare Nuclei</th>\n",
       "      <th>Bland Chromatin</th>\n",
       "      <th>Normal Nucleoli</th>\n",
       "      <th>Mitoses</th>\n",
       "      <th>Class</th>\n",
       "    </tr>\n",
       "  </thead>\n",
       "  <tbody>\n",
       "    <tr>\n",
       "      <th>678</th>\n",
       "      <td>776715</td>\n",
       "      <td>3</td>\n",
       "      <td>1</td>\n",
       "      <td>1</td>\n",
       "      <td>1</td>\n",
       "      <td>3</td>\n",
       "      <td>2</td>\n",
       "      <td>1</td>\n",
       "      <td>1</td>\n",
       "      <td>1</td>\n",
       "      <td>2</td>\n",
       "    </tr>\n",
       "    <tr>\n",
       "      <th>679</th>\n",
       "      <td>841769</td>\n",
       "      <td>2</td>\n",
       "      <td>1</td>\n",
       "      <td>1</td>\n",
       "      <td>1</td>\n",
       "      <td>2</td>\n",
       "      <td>1</td>\n",
       "      <td>1</td>\n",
       "      <td>1</td>\n",
       "      <td>1</td>\n",
       "      <td>2</td>\n",
       "    </tr>\n",
       "    <tr>\n",
       "      <th>680</th>\n",
       "      <td>888820</td>\n",
       "      <td>5</td>\n",
       "      <td>10</td>\n",
       "      <td>10</td>\n",
       "      <td>3</td>\n",
       "      <td>7</td>\n",
       "      <td>3</td>\n",
       "      <td>8</td>\n",
       "      <td>10</td>\n",
       "      <td>2</td>\n",
       "      <td>4</td>\n",
       "    </tr>\n",
       "    <tr>\n",
       "      <th>681</th>\n",
       "      <td>897471</td>\n",
       "      <td>4</td>\n",
       "      <td>8</td>\n",
       "      <td>6</td>\n",
       "      <td>4</td>\n",
       "      <td>3</td>\n",
       "      <td>4</td>\n",
       "      <td>10</td>\n",
       "      <td>6</td>\n",
       "      <td>1</td>\n",
       "      <td>4</td>\n",
       "    </tr>\n",
       "    <tr>\n",
       "      <th>682</th>\n",
       "      <td>897471</td>\n",
       "      <td>4</td>\n",
       "      <td>8</td>\n",
       "      <td>8</td>\n",
       "      <td>5</td>\n",
       "      <td>4</td>\n",
       "      <td>5</td>\n",
       "      <td>10</td>\n",
       "      <td>4</td>\n",
       "      <td>1</td>\n",
       "      <td>4</td>\n",
       "    </tr>\n",
       "  </tbody>\n",
       "</table>\n",
       "</div>"
      ],
      "text/plain": [
       "     Sample code number  Clump Thickness  Uniformity of Cell Size  \\\n",
       "678              776715                3                        1   \n",
       "679              841769                2                        1   \n",
       "680              888820                5                       10   \n",
       "681              897471                4                        8   \n",
       "682              897471                4                        8   \n",
       "\n",
       "     Uniformity of Cell Shape  Marginal Adhesion  Single Epithelial Cell Size  \\\n",
       "678                         1                  1                            3   \n",
       "679                         1                  1                            2   \n",
       "680                        10                  3                            7   \n",
       "681                         6                  4                            3   \n",
       "682                         8                  5                            4   \n",
       "\n",
       "     Bare Nuclei  Bland Chromatin  Normal Nucleoli  Mitoses  Class  \n",
       "678            2                1                1        1      2  \n",
       "679            1                1                1        1      2  \n",
       "680            3                8               10        2      4  \n",
       "681            4               10                6        1      4  \n",
       "682            5               10                4        1      4  "
      ]
     },
     "execution_count": 36,
     "metadata": {},
     "output_type": "execute_result"
    }
   ],
   "source": [
    "df.tail()"
   ]
  },
  {
   "cell_type": "code",
   "execution_count": 37,
   "id": "086d487e",
   "metadata": {},
   "outputs": [
    {
     "data": {
      "text/plain": [
       "(683, 11)"
      ]
     },
     "execution_count": 37,
     "metadata": {},
     "output_type": "execute_result"
    }
   ],
   "source": [
    "df.shape"
   ]
  },
  {
   "cell_type": "code",
   "execution_count": 38,
   "id": "36902929",
   "metadata": {},
   "outputs": [],
   "source": [
    "df.drop([df.columns[0]], axis= 1, inplace= True)"
   ]
  },
  {
   "cell_type": "code",
   "execution_count": 39,
   "id": "8dda6aca",
   "metadata": {},
   "outputs": [
    {
     "name": "stdout",
     "output_type": "stream",
     "text": [
      "<class 'pandas.core.frame.DataFrame'>\n",
      "RangeIndex: 683 entries, 0 to 682\n",
      "Data columns (total 10 columns):\n",
      " #   Column                       Non-Null Count  Dtype\n",
      "---  ------                       --------------  -----\n",
      " 0   Clump Thickness              683 non-null    int64\n",
      " 1   Uniformity of Cell Size      683 non-null    int64\n",
      " 2   Uniformity of Cell Shape     683 non-null    int64\n",
      " 3   Marginal Adhesion            683 non-null    int64\n",
      " 4   Single Epithelial Cell Size  683 non-null    int64\n",
      " 5   Bare Nuclei                  683 non-null    int64\n",
      " 6   Bland Chromatin              683 non-null    int64\n",
      " 7   Normal Nucleoli              683 non-null    int64\n",
      " 8   Mitoses                      683 non-null    int64\n",
      " 9   Class                        683 non-null    int64\n",
      "dtypes: int64(10)\n",
      "memory usage: 53.5 KB\n"
     ]
    }
   ],
   "source": [
    "df.info()"
   ]
  },
  {
   "cell_type": "code",
   "execution_count": 40,
   "id": "fe5a100b",
   "metadata": {},
   "outputs": [
    {
     "data": {
      "text/plain": [
       "Clump Thickness                0\n",
       "Uniformity of Cell Size        0\n",
       "Uniformity of Cell Shape       0\n",
       "Marginal Adhesion              0\n",
       "Single Epithelial Cell Size    0\n",
       "Bare Nuclei                    0\n",
       "Bland Chromatin                0\n",
       "Normal Nucleoli                0\n",
       "Mitoses                        0\n",
       "Class                          0\n",
       "dtype: int64"
      ]
     },
     "execution_count": 40,
     "metadata": {},
     "output_type": "execute_result"
    }
   ],
   "source": [
    "df.isnull().sum()"
   ]
  },
  {
   "cell_type": "code",
   "execution_count": 41,
   "id": "5ae039ab",
   "metadata": {},
   "outputs": [
    {
     "data": {
      "text/plain": [
       "<AxesSubplot:>"
      ]
     },
     "execution_count": 41,
     "metadata": {},
     "output_type": "execute_result"
    },
    {
     "data": {
      "image/png": "[encoded data removed]",
      "text/plain": [
       "<Figure size 1296x576 with 2 Axes>"
      ]
     },
     "metadata": {
      "needs_background": "light"
     },
     "output_type": "display_data"
    }
   ],
   "source": [
    "plt.figure(figsize=[18,8])\n",
    "sns.heatmap(df.corr(), annot = True,cmap = 'coolwarm')"
   ]
  },
  {
   "cell_type": "code",
   "execution_count": 42,
   "id": "3640574d",
   "metadata": {},
   "outputs": [],
   "source": [
    "df['Class'].loc[df['Class'] == 2] = 0\n",
    "df['Class'].loc[df['Class'] == 4] = 1"
   ]
  },
  {
   "cell_type": "code",
   "execution_count": 43,
   "id": "0eab0410",
   "metadata": {},
   "outputs": [
    {
     "data": {
      "text/html": [
       "<div>\n",
       "<style scoped>\n",
       "    .dataframe tbody tr th:only-of-type {\n",
       "        vertical-align: middle;\n",
       "    }\n",
       "\n",
       "    .dataframe tbody tr th {\n",
       "        vertical-align: top;\n",
       "    }\n",
       "\n",
       "    .dataframe thead th {\n",
       "        text-align: right;\n",
       "    }\n",
       "</style>\n",
       "<table border=\"1\" class=\"dataframe\">\n",
       "  <thead>\n",
       "    <tr style=\"text-align: right;\">\n",
       "      <th></th>\n",
       "      <th>Clump Thickness</th>\n",
       "      <th>Uniformity of Cell Size</th>\n",
       "      <th>Uniformity of Cell Shape</th>\n",
       "      <th>Marginal Adhesion</th>\n",
       "      <th>Single Epithelial Cell Size</th>\n",
       "      <th>Bare Nuclei</th>\n",
       "      <th>Bland Chromatin</th>\n",
       "      <th>Normal Nucleoli</th>\n",
       "      <th>Mitoses</th>\n",
       "      <th>Class</th>\n",
       "    </tr>\n",
       "  </thead>\n",
       "  <tbody>\n",
       "    <tr>\n",
       "      <th>678</th>\n",
       "      <td>3</td>\n",
       "      <td>1</td>\n",
       "      <td>1</td>\n",
       "      <td>1</td>\n",
       "      <td>3</td>\n",
       "      <td>2</td>\n",
       "      <td>1</td>\n",
       "      <td>1</td>\n",
       "      <td>1</td>\n",
       "      <td>0</td>\n",
       "    </tr>\n",
       "    <tr>\n",
       "      <th>679</th>\n",
       "      <td>2</td>\n",
       "      <td>1</td>\n",
       "      <td>1</td>\n",
       "      <td>1</td>\n",
       "      <td>2</td>\n",
       "      <td>1</td>\n",
       "      <td>1</td>\n",
       "      <td>1</td>\n",
       "      <td>1</td>\n",
       "      <td>0</td>\n",
       "    </tr>\n",
       "    <tr>\n",
       "      <th>680</th>\n",
       "      <td>5</td>\n",
       "      <td>10</td>\n",
       "      <td>10</td>\n",
       "      <td>3</td>\n",
       "      <td>7</td>\n",
       "      <td>3</td>\n",
       "      <td>8</td>\n",
       "      <td>10</td>\n",
       "      <td>2</td>\n",
       "      <td>1</td>\n",
       "    </tr>\n",
       "    <tr>\n",
       "      <th>681</th>\n",
       "      <td>4</td>\n",
       "      <td>8</td>\n",
       "      <td>6</td>\n",
       "      <td>4</td>\n",
       "      <td>3</td>\n",
       "      <td>4</td>\n",
       "      <td>10</td>\n",
       "      <td>6</td>\n",
       "      <td>1</td>\n",
       "      <td>1</td>\n",
       "    </tr>\n",
       "    <tr>\n",
       "      <th>682</th>\n",
       "      <td>4</td>\n",
       "      <td>8</td>\n",
       "      <td>8</td>\n",
       "      <td>5</td>\n",
       "      <td>4</td>\n",
       "      <td>5</td>\n",
       "      <td>10</td>\n",
       "      <td>4</td>\n",
       "      <td>1</td>\n",
       "      <td>1</td>\n",
       "    </tr>\n",
       "  </tbody>\n",
       "</table>\n",
       "</div>"
      ],
      "text/plain": [
       "     Clump Thickness  Uniformity of Cell Size  Uniformity of Cell Shape  \\\n",
       "678                3                        1                         1   \n",
       "679                2                        1                         1   \n",
       "680                5                       10                        10   \n",
       "681                4                        8                         6   \n",
       "682                4                        8                         8   \n",
       "\n",
       "     Marginal Adhesion  Single Epithelial Cell Size  Bare Nuclei  \\\n",
       "678                  1                            3            2   \n",
       "679                  1                            2            1   \n",
       "680                  3                            7            3   \n",
       "681                  4                            3            4   \n",
       "682                  5                            4            5   \n",
       "\n",
       "     Bland Chromatin  Normal Nucleoli  Mitoses  Class  \n",
       "678                1                1        1      0  \n",
       "679                1                1        1      0  \n",
       "680                8               10        2      1  \n",
       "681               10                6        1      1  \n",
       "682               10                4        1      1  "
      ]
     },
     "execution_count": 43,
     "metadata": {},
     "output_type": "execute_result"
    }
   ],
   "source": [
    "df.tail()"
   ]
  },
  {
   "cell_type": "code",
   "execution_count": 44,
   "id": "981aa8ad",
   "metadata": {
    "scrolled": true
   },
   "outputs": [
    {
     "data": {
      "text/html": [
       "<div>\n",
       "<style scoped>\n",
       "    .dataframe tbody tr th:only-of-type {\n",
       "        vertical-align: middle;\n",
       "    }\n",
       "\n",
       "    .dataframe tbody tr th {\n",
       "        vertical-align: top;\n",
       "    }\n",
       "\n",
       "    .dataframe thead th {\n",
       "        text-align: right;\n",
       "    }\n",
       "</style>\n",
       "<table border=\"1\" class=\"dataframe\">\n",
       "  <thead>\n",
       "    <tr style=\"text-align: right;\">\n",
       "      <th></th>\n",
       "      <th>Clump Thickness</th>\n",
       "      <th>Uniformity of Cell Size</th>\n",
       "      <th>Uniformity of Cell Shape</th>\n",
       "      <th>Marginal Adhesion</th>\n",
       "      <th>Single Epithelial Cell Size</th>\n",
       "      <th>Bare Nuclei</th>\n",
       "      <th>Bland Chromatin</th>\n",
       "      <th>Normal Nucleoli</th>\n",
       "      <th>Mitoses</th>\n",
       "    </tr>\n",
       "  </thead>\n",
       "  <tbody>\n",
       "    <tr>\n",
       "      <th>0</th>\n",
       "      <td>5</td>\n",
       "      <td>1</td>\n",
       "      <td>1</td>\n",
       "      <td>1</td>\n",
       "      <td>2</td>\n",
       "      <td>1</td>\n",
       "      <td>3</td>\n",
       "      <td>1</td>\n",
       "      <td>1</td>\n",
       "    </tr>\n",
       "    <tr>\n",
       "      <th>1</th>\n",
       "      <td>5</td>\n",
       "      <td>4</td>\n",
       "      <td>4</td>\n",
       "      <td>5</td>\n",
       "      <td>7</td>\n",
       "      <td>10</td>\n",
       "      <td>3</td>\n",
       "      <td>2</td>\n",
       "      <td>1</td>\n",
       "    </tr>\n",
       "    <tr>\n",
       "      <th>2</th>\n",
       "      <td>3</td>\n",
       "      <td>1</td>\n",
       "      <td>1</td>\n",
       "      <td>1</td>\n",
       "      <td>2</td>\n",
       "      <td>2</td>\n",
       "      <td>3</td>\n",
       "      <td>1</td>\n",
       "      <td>1</td>\n",
       "    </tr>\n",
       "    <tr>\n",
       "      <th>3</th>\n",
       "      <td>6</td>\n",
       "      <td>8</td>\n",
       "      <td>8</td>\n",
       "      <td>1</td>\n",
       "      <td>3</td>\n",
       "      <td>4</td>\n",
       "      <td>3</td>\n",
       "      <td>7</td>\n",
       "      <td>1</td>\n",
       "    </tr>\n",
       "    <tr>\n",
       "      <th>4</th>\n",
       "      <td>4</td>\n",
       "      <td>1</td>\n",
       "      <td>1</td>\n",
       "      <td>3</td>\n",
       "      <td>2</td>\n",
       "      <td>1</td>\n",
       "      <td>3</td>\n",
       "      <td>1</td>\n",
       "      <td>1</td>\n",
       "    </tr>\n",
       "  </tbody>\n",
       "</table>\n",
       "</div>"
      ],
      "text/plain": [
       "   Clump Thickness  Uniformity of Cell Size  Uniformity of Cell Shape  \\\n",
       "0                5                        1                         1   \n",
       "1                5                        4                         4   \n",
       "2                3                        1                         1   \n",
       "3                6                        8                         8   \n",
       "4                4                        1                         1   \n",
       "\n",
       "   Marginal Adhesion  Single Epithelial Cell Size  Bare Nuclei  \\\n",
       "0                  1                            2            1   \n",
       "1                  5                            7           10   \n",
       "2                  1                            2            2   \n",
       "3                  1                            3            4   \n",
       "4                  3                            2            1   \n",
       "\n",
       "   Bland Chromatin  Normal Nucleoli  Mitoses  \n",
       "0                3                1        1  \n",
       "1                3                2        1  \n",
       "2                3                1        1  \n",
       "3                3                7        1  \n",
       "4                3                1        1  "
      ]
     },
     "execution_count": 44,
     "metadata": {},
     "output_type": "execute_result"
    }
   ],
   "source": [
    "x = df.drop(['Class'],axis=1)\n",
    "x.head()"
   ]
  },
  {
   "cell_type": "code",
   "execution_count": 45,
   "id": "cf3c0795",
   "metadata": {
    "scrolled": false
   },
   "outputs": [
    {
     "data": {
      "text/html": [
       "<div>\n",
       "<style scoped>\n",
       "    .dataframe tbody tr th:only-of-type {\n",
       "        vertical-align: middle;\n",
       "    }\n",
       "\n",
       "    .dataframe tbody tr th {\n",
       "        vertical-align: top;\n",
       "    }\n",
       "\n",
       "    .dataframe thead th {\n",
       "        text-align: right;\n",
       "    }\n",
       "</style>\n",
       "<table border=\"1\" class=\"dataframe\">\n",
       "  <thead>\n",
       "    <tr style=\"text-align: right;\">\n",
       "      <th></th>\n",
       "      <th>Class</th>\n",
       "    </tr>\n",
       "  </thead>\n",
       "  <tbody>\n",
       "    <tr>\n",
       "      <th>0</th>\n",
       "      <td>0</td>\n",
       "    </tr>\n",
       "    <tr>\n",
       "      <th>1</th>\n",
       "      <td>0</td>\n",
       "    </tr>\n",
       "    <tr>\n",
       "      <th>2</th>\n",
       "      <td>0</td>\n",
       "    </tr>\n",
       "    <tr>\n",
       "      <th>3</th>\n",
       "      <td>0</td>\n",
       "    </tr>\n",
       "    <tr>\n",
       "      <th>4</th>\n",
       "      <td>0</td>\n",
       "    </tr>\n",
       "  </tbody>\n",
       "</table>\n",
       "</div>"
      ],
      "text/plain": [
       "   Class\n",
       "0      0\n",
       "1      0\n",
       "2      0\n",
       "3      0\n",
       "4      0"
      ]
     },
     "execution_count": 45,
     "metadata": {},
     "output_type": "execute_result"
    }
   ],
   "source": [
    "y=df[['Class']]\n",
    "y.head()"
   ]
  },
  {
   "cell_type": "code",
   "execution_count": 46,
   "id": "fa97979a",
   "metadata": {},
   "outputs": [],
   "source": [
    "#Convert dataframe to numpy.\n",
    "\n",
    "X = x.to_numpy()\n",
    "\n",
    "Y = y.to_numpy()"
   ]
  },
  {
   "cell_type": "code",
   "execution_count": 47,
   "id": "6d4e87b1",
   "metadata": {},
   "outputs": [],
   "source": [
    "#Divide the training and testing set\n",
    "\n",
    "x_train = x.iloc[:600]\n",
    "\n",
    "y_train = y.iloc[:600]\n",
    "\n",
    "x_test = x.iloc[600:]\n",
    "\n",
    "y_test = y.iloc[600:]"
   ]
  },
  {
   "cell_type": "code",
   "execution_count": 48,
   "id": "9b739beb",
   "metadata": {},
   "outputs": [
    {
     "name": "stdout",
     "output_type": "stream",
     "text": [
      "X - train shape :  (600, 9)\n",
      "Y - train shape :  (600, 1)\n",
      "X - test shape :  (83, 9)\n",
      "Y - test shape :  (83, 1)\n"
     ]
    }
   ],
   "source": [
    "print('X - train shape : ',x_train.shape)\n",
    "print('Y - train shape : ',y_train.shape)\n",
    "print('X - test shape : ',x_test.shape)\n",
    "print('Y - test shape : ',y_test.shape)"
   ]
  },
  {
   "cell_type": "code",
   "execution_count": 49,
   "id": "d2f0d74a",
   "metadata": {},
   "outputs": [],
   "source": [
    "x_train = x_train.to_numpy()\n",
    "\n",
    "y_train = y_train.to_numpy()\n",
    "\n",
    "x_test = x_test.to_numpy()\n",
    "\n",
    "y_test = y_test.to_numpy()"
   ]
  },
  {
   "cell_type": "code",
   "execution_count": 50,
   "id": "bf83bcd2",
   "metadata": {
    "scrolled": true
   },
   "outputs": [],
   "source": [
    "#Reshaping the numpy array.\n",
    "\n",
    "x_train = x_train.reshape(x_train.shape[0],-1).T\n",
    "x_test = x_test.reshape(x_test.shape[0],-1).T\n",
    "y_train = y_train.reshape(y_train.shape[0],-1).T\n",
    "y_test = y_test.reshape(y_test.shape[0],-1).T\n",
    "#print(x_train)\n",
    "#print(y_train)\n",
    "#print(x_test)\n",
    "#print(y_test)"
   ]
  },
  {
   "cell_type": "code",
   "execution_count": 51,
   "id": "969dae0d",
   "metadata": {},
   "outputs": [
    {
     "name": "stdout",
     "output_type": "stream",
     "text": [
      "(9, 600)\n",
      "(1, 600)\n",
      "(9, 83)\n",
      "(1, 83)\n"
     ]
    }
   ],
   "source": [
    "print(x_train.shape)\n",
    "print(y_train.shape)\n",
    "print(x_test.shape)\n",
    "print(y_test.shape)"
   ]
  },
  {
   "cell_type": "code",
   "execution_count": 52,
   "id": "bf4d2692",
   "metadata": {},
   "outputs": [],
   "source": [
    "#Resizing the array\n",
    "\n",
    "x_train = x_train/10\n",
    "x_test = x_test/10"
   ]
  },
  {
   "cell_type": "code",
   "execution_count": 53,
   "id": "0e05dcd4",
   "metadata": {},
   "outputs": [],
   "source": [
    "#print(x_train)\n",
    "#print(x_test)\n",
    "#print(y_train)\n",
    "#print(y_test)"
   ]
  },
  {
   "cell_type": "markdown",
   "id": "29238317",
   "metadata": {},
   "source": [
    "# ITS TIME TO BUILD THE MODEL !!!!!!! "
   ]
  },
  {
   "cell_type": "code",
   "execution_count": 54,
   "id": "2f28ca22",
   "metadata": {},
   "outputs": [],
   "source": [
    "# Simple 3 layer model"
   ]
  },
  {
   "cell_type": "code",
   "execution_count": 55,
   "id": "481a0b69",
   "metadata": {},
   "outputs": [
    {
     "name": "stdout",
     "output_type": "stream",
     "text": [
      "(9, 4, 1)\n"
     ]
    }
   ],
   "source": [
    "def layer_sizes(x_train,y_train):\n",
    "    \n",
    "    n_x = x_train.shape[0]\n",
    "    n_h = 4\n",
    "    n_y = y_train.shape[0]\n",
    "    \n",
    "    return (n_x,n_h,n_y)\n",
    "\n",
    "print(layer_sizes(x_train,y_train))"
   ]
  },
  {
   "cell_type": "code",
   "execution_count": 56,
   "id": "fd563f2d",
   "metadata": {},
   "outputs": [],
   "source": [
    "def initialize_parameters(n_x,n_h,n_y):\n",
    "    \n",
    "    W1 = np.random.randn(n_h,n_x) * 0.01\n",
    "    b1 = np.zeros((n_h,1))\n",
    "    W2 = np.random.randn(n_y,n_h) * 0.01\n",
    "    b2 = np.zeros((n_y,1))\n",
    "    \n",
    "    parameters = {\"W1\": W1,\"b1\": b1,\"W2\": W2,\"b2\": b2}\n",
    "    \n",
    "    return parameters\n",
    "\n",
    "#print(initialize_parameters(9,4,1))"
   ]
  },
  {
   "cell_type": "code",
   "execution_count": 57,
   "id": "e8c5d462",
   "metadata": {},
   "outputs": [],
   "source": [
    "def sigmoid(z):\n",
    "    \n",
    "    s = 1 / (1 + np.exp(-z))\n",
    "    \n",
    "    return s"
   ]
  },
  {
   "cell_type": "code",
   "execution_count": 58,
   "id": "90165f0c",
   "metadata": {},
   "outputs": [],
   "source": [
    "def forward_propagation(x_train,parameters):\n",
    "    \n",
    "    W1 = parameters['W1']\n",
    "    b1 = parameters['b1']\n",
    "    W2 = parameters['W2']\n",
    "    b2 = parameters['b2']\n",
    "    \n",
    "    Z1 = np.dot(W1,x_train) + b1\n",
    "    A1 = np.tanh(Z1)\n",
    "    Z2 = np.dot(W2,A1) + b2\n",
    "    A2 = sigmoid(Z2)\n",
    "    \n",
    "    assert(A2.shape == (1, x_train.shape[1]))\n",
    "    \n",
    "    cache = {\"Z1\": Z1,\"A1\": A1,\"Z2\": Z2,\"A2\": A2}\n",
    "    \n",
    "    return A2, cache"
   ]
  },
  {
   "cell_type": "code",
   "execution_count": 59,
   "id": "84d35329",
   "metadata": {},
   "outputs": [],
   "source": [
    "def compute_cost(A2,y_train):\n",
    "    \n",
    "    m = y_train.shape[1]\n",
    "    \n",
    "    logprobs = np.multiply(np.log(A2),Y) + np.multiply((1-Y),np.log(1-A2))\n",
    "    cost = - np.sum(logprobs) / m\n",
    "        \n",
    "    cost = float(np.squeeze(cost)) \n",
    "    \n",
    "    return cost"
   ]
  },
  {
   "cell_type": "code",
   "execution_count": 60,
   "id": "aa4d58a7",
   "metadata": {},
   "outputs": [],
   "source": [
    "def backward_propagation(parameters,cache,x_train,y_train):\n",
    "    \n",
    "    m = x_train.shape[1]\n",
    "    \n",
    "    W1 = parameters['W1']\n",
    "    W2 = parameters['W2']  \n",
    "    A1 = cache['A1']\n",
    "    A2 = cache['A2']\n",
    "    \n",
    "    dZ2 = A2 - y_train\n",
    "    dW2 = (1/m) * np.dot(dZ2,A1.T)\n",
    "    db2 = (1/m) * np.sum(dZ2,axis = 1,keepdims = True)\n",
    "    dZ1 = np.multiply(np.dot(W2.T,dZ2), 1-np.power(A1,2))\n",
    "    dW1 = (1/m) * np.dot(dZ1, x_train.T)\n",
    "    db1 = (1/m) * np.sum(dZ1, axis = 1, keepdims = True)\n",
    "        \n",
    "    grads = {\"dW1\": dW1,\"db1\": db1,\"dW2\": dW2,\"db2\": db2}\n",
    "    \n",
    "    return grads"
   ]
  },
  {
   "cell_type": "code",
   "execution_count": 61,
   "id": "4c16c650",
   "metadata": {},
   "outputs": [],
   "source": [
    "def update_parameters(parameters, grads, learning_rate):\n",
    "    \n",
    "    W1 = parameters['W1']\n",
    "    b1 = parameters['b1']\n",
    "    W2 = parameters['W2']\n",
    "    b2 = parameters['b2']\n",
    "    \n",
    "    dW1 = grads['dW1']\n",
    "    db1 = grads['db1']\n",
    "    dW2 = grads['dW2']\n",
    "    db2 = grads['db2']\n",
    "    \n",
    "    W1 = W1 - learning_rate * dW1\n",
    "    b1 = b1 - learning_rate * db1\n",
    "    W2 = W2 - learning_rate * dW2\n",
    "    b2 = b2 - learning_rate * db2\n",
    "    \n",
    "    parameters = {\"W1\": W1,\"b1\": b1,\"W2\": W2,\"b2\": b2}\n",
    "    \n",
    "    return parameters"
   ]
  },
  {
   "cell_type": "code",
   "execution_count": 62,
   "id": "01f452ed",
   "metadata": {},
   "outputs": [],
   "source": [
    "def nn_model(x_train,y_train, n_h, num_iterations):\n",
    "    \n",
    "    np.random.seed(3)\n",
    "    n_x = layer_sizes(x_train, y_train)[0]\n",
    "    n_y = layer_sizes(x_train, y_train)[2]\n",
    "    \n",
    "    parameters = initialize_parameters(n_x,n_h,n_y)\n",
    "    \n",
    "    \n",
    "\n",
    "    for i in range(0, num_iterations):\n",
    "        A2,cache = forward_propagation(x_train,parameters)\n",
    "        cost = compute_cost(A2,y_train)\n",
    "        grads = backward_propagation(parameters,cache,x_train,y_train)\n",
    "        parameters = update_parameters(parameters,grads,learning_rate = 0.01)\n",
    "        \n",
    "    return parameters"
   ]
  },
  {
   "cell_type": "code",
   "execution_count": 63,
   "id": "a05e55a6",
   "metadata": {},
   "outputs": [],
   "source": [
    "def predict(parameters, X):\n",
    "    \n",
    "    A2,cache = forward_propagation(X,parameters)\n",
    "    predictions = (A2>0.5)\n",
    "    \n",
    "    return predictions"
   ]
  },
  {
   "cell_type": "code",
   "execution_count": 64,
   "id": "4a550143",
   "metadata": {},
   "outputs": [],
   "source": [
    "lr_model = nn_model(x_train, y_train, 4, num_iterations=10000)"
   ]
  },
  {
   "cell_type": "code",
   "execution_count": 65,
   "id": "88933dfd",
   "metadata": {},
   "outputs": [
    {
     "name": "stdout",
     "output_type": "stream",
     "text": [
      "W1 = [[-0.60168901 -0.47138515 -0.52341424 -0.36698884 -0.17858518 -0.74786709\n",
      "  -0.33741222 -0.38973083 -0.23993889]\n",
      " [-0.57034424 -0.44917094 -0.47441109 -0.31992157 -0.14216231 -0.68327954\n",
      "  -0.31678803 -0.35920055 -0.23634544]\n",
      " [ 0.33617179  0.24561837  0.27450646  0.20643896  0.11020553  0.4014352\n",
      "   0.18524414  0.20789507  0.13959396]\n",
      " [-0.58867516 -0.45998753 -0.5019492  -0.33053035 -0.14630507 -0.71902711\n",
      "  -0.32793728 -0.37359423 -0.2517909 ]]\n",
      "b1 = [[ 1.15276385]\n",
      " [ 1.09246877]\n",
      " [-0.64308249]\n",
      " [ 1.12291017]]\n",
      "W2 = [[-2.04731351 -1.90158423  1.08556875 -1.97549656]]\n",
      "b2 = [[-1.32817452]]\n"
     ]
    }
   ],
   "source": [
    "print(\"W1 = \" + str(lr_model[\"W1\"]))\n",
    "print(\"b1 = \" + str(lr_model[\"b1\"]))\n",
    "print(\"W2 = \" + str(lr_model[\"W2\"]))\n",
    "print(\"b2 = \" + str(lr_model[\"b2\"]))"
   ]
  },
  {
   "cell_type": "markdown",
   "id": "bf089a38",
   "metadata": {},
   "source": [
    "# Testing the model"
   ]
  },
  {
   "cell_type": "code",
   "execution_count": 66,
   "id": "bc02a561",
   "metadata": {},
   "outputs": [
    {
     "name": "stdout",
     "output_type": "stream",
     "text": [
      "train accuracy: 96.83333333333333 %\n",
      "test accuracy: 100.0 %\n"
     ]
    }
   ],
   "source": [
    "params = {'W1' : lr_model['W1'], 'b1' : lr_model['b1'], 'W2' : lr_model['W2'], 'b2' : lr_model['b2']}\n",
    "\n",
    "Y_prediction_test = predict(params, x_test)\n",
    "Y_prediction_train = predict(params, x_train)\n",
    "\n",
    "print(\"train accuracy: {} %\".format(100 - np.mean(np.abs(Y_prediction_train - y_train)) * 100))\n",
    "print(\"test accuracy: {} %\".format(100 - np.mean(np.abs(Y_prediction_test - y_test)) * 100))"
   ]
  },
  {
   "cell_type": "markdown",
   "id": "1c5907f0",
   "metadata": {},
   "source": [
    "# Asking User Inputs on a Built Model"
   ]
  },
  {
   "cell_type": "code",
   "execution_count": 72,
   "id": "76fb28ed",
   "metadata": {},
   "outputs": [
    {
     "name": "stdout",
     "output_type": "stream",
     "text": [
      "Enter the Clump Thickness :4\n",
      "Enter the Uniformity of Cell Size :1\n",
      "Enter the Uniformity of Cell Shape :1\n",
      "Enter the Marginal Adhesion :3\n",
      "Enter the  Single Epitelial Cell Size :2\n",
      "Enter the Bare Nuceli :1\n",
      "Enter the Bland Chromatin :3\n",
      "Enter the Normal Nuclei :1\n",
      "Enter the Mitoses :1\n",
      "Cancer = Benign\n"
     ]
    }
   ],
   "source": [
    "def user_inp():\n",
    "    \n",
    "    params = {'W1' : lr_model['W1'], 'b1' : lr_model['b1'], 'W2' : lr_model['W2'], 'b2' : lr_model['b2']}\n",
    "    \n",
    "    heads = ['Clump Thickness', 'Uniformity of Cell Size', 'Uniformity of Cell Shape', 'Marginal Adhesion',' Single Epitelial Cell Size','Bare Nuceli','Bland Chromatin','Normal Nuclei','Mitoses']\n",
    "    A = []\n",
    "    for i in heads : \n",
    "        a = int(input('Enter the '+i+' :'))\n",
    "        if a>=0 and a<=10:\n",
    "            A.append(a)\n",
    "        else:\n",
    "            print('Enter the value within 0 to 10 !!!')\n",
    "            user_inp()\n",
    "\n",
    "\n",
    "    val = np.array(A)\n",
    "    vals = val.reshape((1,9)).T\n",
    "    vals = vals/10\n",
    "\n",
    "    pred_val = predict(params,vals)\n",
    "    \n",
    "    if pred_val == False:\n",
    "        print('Cancer = Benign')\n",
    "    else:\n",
    "        print('Cancer = Malignant')\n",
    "\n",
    "    #print(pred_val[0])\n",
    "    \n",
    "    #return val,pred_val\n",
    "\n",
    "user_inp()"
   ]
  },
  {
   "cell_type": "code",
   "execution_count": null,
   "id": "28bc8bae",
   "metadata": {},
   "outputs": [],
   "source": []
  }
 ],
 "metadata": {
  "kernelspec": {
   "display_name": "Python 3 (ipykernel)",
   "language": "python",
   "name": "python3"
  },
  "language_info": {
   "codemirror_mode": {
    "name": "ipython",
    "version": 3
   },
   "file_extension": ".py",
   "mimetype": "text/x-python",
   "name": "python",
   "nbconvert_exporter": "python",
   "pygments_lexer": "ipython3",
   "version": "3.10.1"
  }
 },
 "nbformat": 4,
 "nbformat_minor": 5
}
